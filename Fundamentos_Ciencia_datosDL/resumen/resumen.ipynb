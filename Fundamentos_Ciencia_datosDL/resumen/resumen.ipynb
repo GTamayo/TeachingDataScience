{
 "cells": [
  {
   "cell_type": "markdown",
   "metadata": {},
   "source": [
    "<h1 > Data Analysis </h1>"
   ]
  },
  {
   "cell_type": "markdown",
   "metadata": {},
   "source": [
    "<ul>\n",
    "  <li>Framework de trabajo</li>\n",
    "  <li>Python</li>\n",
    "  <li>Jupyter notebook</li>\n",
    "</ul>"
   ]
  },
  {
   "cell_type": "markdown",
   "metadata": {},
   "source": [
    "<h2 > Python </h2>"
   ]
  },
  {
   "cell_type": "markdown",
   "metadata": {},
   "source": [
    "<ul>\n",
    "  <li>Simple con énfasis en la claridad del código</li>\n",
    "  <li>Ampliamente utilizado por las comunidades científicas y privadas</li>\n",
    "  <li>Cuenta con un amplio catálogo de librerías, algunas de ellas son:</li>\n",
    "    <ul>\n",
    "      <li>Pandas</li>\n",
    "      <li>Numpy</li>\n",
    "      <li>Matplotlib</li>\n",
    "    </ul>\n",
    "</ul>"
   ]
  },
  {
   "cell_type": "markdown",
   "metadata": {},
   "source": [
    "<h2> Jupyter notebook </h2>"
   ]
  },
  {
   "cell_type": "markdown",
   "metadata": {},
   "source": [
    "<ul>\n",
    "  <li>Jupyter funciona como un punto intermedio entre el kernel de Python y Markdown</li>\n",
    "  <li>Nos permite crear documentos con visualización y narrativa</li>\n",
    "  <li>Existen dos tipos de celdas:</li>\n",
    "    <ul>\n",
    "      <li>Markdown</li>\n",
    "      <li>Code</li>\n",
    "     </ul>\n",
    "   <li>Existen kernels en múltiples lenguajes</li>\n",
    "</ul>"
   ]
  },
  {
   "cell_type": "markdown",
   "metadata": {},
   "source": [
    "<h1> Flujo de Trabajo General </h1>"
   ]
  },
  {
   "cell_type": "markdown",
   "metadata": {},
   "source": [
    "<ul>\n",
    "  <li>Identificar naturaleza de los datos</li>\n",
    "  <li>Identificar estructura de las variables</li>\n",
    "  <li>Análisis:</li>\n",
    "    <ul>\n",
    "      <li>Análisis exploratorio</li>\n",
    "      <li>Feature engineering</li>\n",
    "     </ul>\n",
    "   <li>Estrategía de modelación</li>\n",
    "</ul>"
   ]
  },
  {
   "cell_type": "markdown",
   "metadata": {},
   "source": [
    "<img src=\"images/1.png\" alt=\"\">"
   ]
  },
  {
   "cell_type": "markdown",
   "metadata": {},
   "source": [
    "\n",
    "<ul>\n",
    "  <li>En el aprendizaje supervisado, los algoritmos trabajan con datos “etiquetados” (labeled data)</li>\n",
    "  <li>El aprendizaje no supervisado tiene lugar cuando no se dispone de datos “etiquetados”  para el entrenamiento.</li>\n",
    "</ul>"
   ]
  },
  {
   "cell_type": "markdown",
   "metadata": {},
   "source": [
    "<h1> Análisis Econométrico </h1>"
   ]
  },
  {
   "cell_type": "markdown",
   "metadata": {},
   "source": [
    "<h3> Modelo de Regresión Lineal (Econometría | Regresión)<h3> "
   ]
  },
  {
   "cell_type": "markdown",
   "metadata": {},
   "source": [
    "$$\\displaystyle Y=\\beta _{0}+\\beta _{1}X_{1}+\\beta _{2}X_{2}+\\cdots +\\beta _{p}X_{p}+\\varepsilon $$"
   ]
  },
  {
   "cell_type": "markdown",
   "metadata": {},
   "source": [
    "Para estimar los parámetros utilizamos el método de los mínimos cuadrados, donde buscamos resolver"
   ]
  },
  {
   "cell_type": "markdown",
   "metadata": {},
   "source": [
    "<img src=\"images/2.png\" alt=\"\">"
   ]
  },
  {
   "cell_type": "markdown",
   "metadata": {},
   "source": [
    "<ul>\n",
    "  <li>Supuestos Gauss-Markov.</li>\n",
    "  <ul>\n",
    "  <li>Modelo poblacional es lineal en sus parámetros.</li>\n",
    "  <li>Muestra aleatoria de tamaño n representativa de la población</li>\n",
    "  <li>Le media del error es cero</li>\n",
    "  <li>Varianza de los errores constante</li>\n",
    "  <li>Ninguna variable x es constante ni tiene una correlación lineal exacta con otra (no multicolinealidad)</li>\n",
    "  <li>El error debe distribuirse de forma normal</li>\n",
    "</ul>\n",
    "</ul>"
   ]
  },
  {
   "cell_type": "markdown",
   "metadata": {},
   "source": []
  },
  {
   "cell_type": "code",
   "execution_count": 1,
   "metadata": {},
   "outputs": [],
   "source": [
    "import pandas as pd\n",
    "import numpy as np\n",
    "\n",
    "#Importamos librerias\n",
    "import statsmodels.api as sm\n",
    "import statsmodels.formula.api as smf"
   ]
  },
  {
   "cell_type": "code",
   "execution_count": 2,
   "metadata": {},
   "outputs": [
    {
     "data": {
      "text/html": [
       "<div>\n",
       "<style scoped>\n",
       "    .dataframe tbody tr th:only-of-type {\n",
       "        vertical-align: middle;\n",
       "    }\n",
       "\n",
       "    .dataframe tbody tr th {\n",
       "        vertical-align: top;\n",
       "    }\n",
       "\n",
       "    .dataframe thead th {\n",
       "        text-align: right;\n",
       "    }\n",
       "</style>\n",
       "<table border=\"1\" class=\"dataframe\">\n",
       "  <thead>\n",
       "    <tr style=\"text-align: right;\">\n",
       "      <th></th>\n",
       "      <th>Income</th>\n",
       "      <th>Limit</th>\n",
       "      <th>Rating</th>\n",
       "      <th>Cards</th>\n",
       "      <th>Age</th>\n",
       "      <th>Education</th>\n",
       "      <th>Gender</th>\n",
       "      <th>Student</th>\n",
       "      <th>Married</th>\n",
       "      <th>Ethnicity</th>\n",
       "      <th>Balance</th>\n",
       "    </tr>\n",
       "  </thead>\n",
       "  <tbody>\n",
       "    <tr>\n",
       "      <th>72</th>\n",
       "      <td>22.939</td>\n",
       "      <td>4923</td>\n",
       "      <td>355</td>\n",
       "      <td>1</td>\n",
       "      <td>47</td>\n",
       "      <td>18</td>\n",
       "      <td>Female</td>\n",
       "      <td>No</td>\n",
       "      <td>Yes</td>\n",
       "      <td>Asian</td>\n",
       "      <td>663</td>\n",
       "    </tr>\n",
       "    <tr>\n",
       "      <th>353</th>\n",
       "      <td>41.868</td>\n",
       "      <td>4716</td>\n",
       "      <td>342</td>\n",
       "      <td>2</td>\n",
       "      <td>47</td>\n",
       "      <td>18</td>\n",
       "      <td>Male</td>\n",
       "      <td>No</td>\n",
       "      <td>No</td>\n",
       "      <td>Caucasian</td>\n",
       "      <td>425</td>\n",
       "    </tr>\n",
       "    <tr>\n",
       "      <th>383</th>\n",
       "      <td>14.292</td>\n",
       "      <td>3274</td>\n",
       "      <td>282</td>\n",
       "      <td>9</td>\n",
       "      <td>64</td>\n",
       "      <td>9</td>\n",
       "      <td>Male</td>\n",
       "      <td>No</td>\n",
       "      <td>Yes</td>\n",
       "      <td>Caucasian</td>\n",
       "      <td>382</td>\n",
       "    </tr>\n",
       "    <tr>\n",
       "      <th>344</th>\n",
       "      <td>48.218</td>\n",
       "      <td>5199</td>\n",
       "      <td>401</td>\n",
       "      <td>7</td>\n",
       "      <td>39</td>\n",
       "      <td>10</td>\n",
       "      <td>Male</td>\n",
       "      <td>No</td>\n",
       "      <td>Yes</td>\n",
       "      <td>Asian</td>\n",
       "      <td>633</td>\n",
       "    </tr>\n",
       "    <tr>\n",
       "      <th>338</th>\n",
       "      <td>41.365</td>\n",
       "      <td>5303</td>\n",
       "      <td>377</td>\n",
       "      <td>1</td>\n",
       "      <td>45</td>\n",
       "      <td>14</td>\n",
       "      <td>Male</td>\n",
       "      <td>No</td>\n",
       "      <td>No</td>\n",
       "      <td>Caucasian</td>\n",
       "      <td>606</td>\n",
       "    </tr>\n",
       "  </tbody>\n",
       "</table>\n",
       "</div>"
      ],
      "text/plain": [
       "     Income  Limit  Rating  Cards  Age  Education  Gender Student Married  \\\n",
       "72   22.939   4923     355      1   47         18  Female      No     Yes   \n",
       "353  41.868   4716     342      2   47         18    Male      No      No   \n",
       "383  14.292   3274     282      9   64          9    Male      No     Yes   \n",
       "344  48.218   5199     401      7   39         10    Male      No     Yes   \n",
       "338  41.365   5303     377      1   45         14    Male      No      No   \n",
       "\n",
       "     Ethnicity  Balance  \n",
       "72       Asian      663  \n",
       "353  Caucasian      425  \n",
       "383  Caucasian      382  \n",
       "344      Asian      633  \n",
       "338  Caucasian      606  "
      ]
     },
     "execution_count": 2,
     "metadata": {},
     "output_type": "execute_result"
    }
   ],
   "source": [
    "df = pd.read_csv(\"data/Credit.csv\").drop(columns=\"Unnamed: 0\")\n",
    "df.sample(5)"
   ]
  },
  {
   "cell_type": "code",
   "execution_count": 3,
   "metadata": {},
   "outputs": [],
   "source": [
    "# instancia de modelo\n",
    "model = smf.ols(\"Income ~ Age\", data=df)\n",
    "\n",
    "# Fit del modelo\n",
    "model_fited = model.fit()"
   ]
  },
  {
   "cell_type": "code",
   "execution_count": 4,
   "metadata": {},
   "outputs": [
    {
     "data": {
      "text/html": [
       "<table class=\"simpletable\">\n",
       "<caption>OLS Regression Results</caption>\n",
       "<tr>\n",
       "  <th>Dep. Variable:</th>         <td>Income</td>      <th>  R-squared:         </th> <td>   0.031</td>\n",
       "</tr>\n",
       "<tr>\n",
       "  <th>Model:</th>                   <td>OLS</td>       <th>  Adj. R-squared:    </th> <td>   0.028</td>\n",
       "</tr>\n",
       "<tr>\n",
       "  <th>Method:</th>             <td>Least Squares</td>  <th>  F-statistic:       </th> <td>   12.62</td>\n",
       "</tr>\n",
       "<tr>\n",
       "  <th>Date:</th>             <td>Wed, 18 Mar 2020</td> <th>  Prob (F-statistic):</th> <td>0.000426</td>\n",
       "</tr>\n",
       "<tr>\n",
       "  <th>Time:</th>                 <td>20:57:27</td>     <th>  Log-Likelihood:    </th> <td> -1985.8</td>\n",
       "</tr>\n",
       "<tr>\n",
       "  <th>No. Observations:</th>      <td>   400</td>      <th>  AIC:               </th> <td>   3976.</td>\n",
       "</tr>\n",
       "<tr>\n",
       "  <th>Df Residuals:</th>          <td>   398</td>      <th>  BIC:               </th> <td>   3983.</td>\n",
       "</tr>\n",
       "<tr>\n",
       "  <th>Df Model:</th>              <td>     1</td>      <th>                     </th>     <td> </td>   \n",
       "</tr>\n",
       "<tr>\n",
       "  <th>Covariance Type:</th>      <td>nonrobust</td>    <th>                     </th>     <td> </td>   \n",
       "</tr>\n",
       "</table>\n",
       "<table class=\"simpletable\">\n",
       "<tr>\n",
       "      <td></td>         <th>coef</th>     <th>std err</th>      <th>t</th>      <th>P>|t|</th>  <th>[0.025</th>    <th>0.975]</th>  \n",
       "</tr>\n",
       "<tr>\n",
       "  <th>Intercept</th> <td>   25.2762</td> <td>    5.876</td> <td>    4.302</td> <td> 0.000</td> <td>   13.725</td> <td>   36.827</td>\n",
       "</tr>\n",
       "<tr>\n",
       "  <th>Age</th>       <td>    0.3582</td> <td>    0.101</td> <td>    3.553</td> <td> 0.000</td> <td>    0.160</td> <td>    0.556</td>\n",
       "</tr>\n",
       "</table>\n",
       "<table class=\"simpletable\">\n",
       "<tr>\n",
       "  <th>Omnibus:</th>       <td>132.309</td> <th>  Durbin-Watson:     </th> <td>   2.000</td>\n",
       "</tr>\n",
       "<tr>\n",
       "  <th>Prob(Omnibus):</th> <td> 0.000</td>  <th>  Jarque-Bera (JB):  </th> <td> 317.897</td>\n",
       "</tr>\n",
       "<tr>\n",
       "  <th>Skew:</th>          <td> 1.674</td>  <th>  Prob(JB):          </th> <td>9.32e-70</td>\n",
       "</tr>\n",
       "<tr>\n",
       "  <th>Kurtosis:</th>      <td> 5.805</td>  <th>  Cond. No.          </th> <td>    197.</td>\n",
       "</tr>\n",
       "</table><br/><br/>Warnings:<br/>[1] Standard Errors assume that the covariance matrix of the errors is correctly specified."
      ],
      "text/plain": [
       "<class 'statsmodels.iolib.summary.Summary'>\n",
       "\"\"\"\n",
       "                            OLS Regression Results                            \n",
       "==============================================================================\n",
       "Dep. Variable:                 Income   R-squared:                       0.031\n",
       "Model:                            OLS   Adj. R-squared:                  0.028\n",
       "Method:                 Least Squares   F-statistic:                     12.62\n",
       "Date:                Wed, 18 Mar 2020   Prob (F-statistic):           0.000426\n",
       "Time:                        20:57:27   Log-Likelihood:                -1985.8\n",
       "No. Observations:                 400   AIC:                             3976.\n",
       "Df Residuals:                     398   BIC:                             3983.\n",
       "Df Model:                           1                                         \n",
       "Covariance Type:            nonrobust                                         \n",
       "==============================================================================\n",
       "                 coef    std err          t      P>|t|      [0.025      0.975]\n",
       "------------------------------------------------------------------------------\n",
       "Intercept     25.2762      5.876      4.302      0.000      13.725      36.827\n",
       "Age            0.3582      0.101      3.553      0.000       0.160       0.556\n",
       "==============================================================================\n",
       "Omnibus:                      132.309   Durbin-Watson:                   2.000\n",
       "Prob(Omnibus):                  0.000   Jarque-Bera (JB):              317.897\n",
       "Skew:                           1.674   Prob(JB):                     9.32e-70\n",
       "Kurtosis:                       5.805   Cond. No.                         197.\n",
       "==============================================================================\n",
       "\n",
       "Warnings:\n",
       "[1] Standard Errors assume that the covariance matrix of the errors is correctly specified.\n",
       "\"\"\""
      ]
     },
     "execution_count": 4,
     "metadata": {},
     "output_type": "execute_result"
    }
   ],
   "source": [
    "model_fited.summary()"
   ]
  },
  {
   "cell_type": "code",
   "execution_count": 7,
   "metadata": {},
   "outputs": [
    {
     "data": {
      "text/plain": [
       "3983.4845242631986"
      ]
     },
     "execution_count": 7,
     "metadata": {},
     "output_type": "execute_result"
    }
   ],
   "source": [
    "model_fited.bic"
   ]
  },
  {
   "cell_type": "markdown",
   "metadata": {},
   "source": [
    "<h2> Modelo de Regresión Lógistica (Econometría|clasificación)<h2> "
   ]
  },
  {
   "cell_type": "markdown",
   "metadata": {},
   "source": [
    "<ul>\n",
    "  <li>La regresión logística busca análizar los determinantes de un fenomeno discreto, con dos categorías.</li>\n",
    "  <ul>\n",
    "  <li>Clasificación de Spam: ¿ Este mail es smap o no es spam? Y {0:no, 1:si}.</li>\n",
    "  <li>¿La foto pertenece a un gato a a un perro? Y {0:no, 1:si}</li>\n",
    "</ul>\n",
    "</ul>"
   ]
  },
  {
   "cell_type": "markdown",
   "metadata": {},
   "source": [
    "<h3> Modelo de probabilidad lineal </h3>"
   ]
  },
  {
   "cell_type": "markdown",
   "metadata": {},
   "source": [
    "<ul>\n",
    "  <li>Regresión lineal donde asumimos que los parámetros miden la probabilidad de ocurrencia de Y.</li>\n",
    "</ul>\n",
    "\n",
    "$$\\displaystyle Y=\\beta _{0}+\\beta _{1}X_{1}+\\beta _{2}X_{2}+\\cdots +\\beta _{p}X_{p}+\\varepsilon $$\n",
    "\n",
    "<ul>\n",
    "  <li>Problemas.</li>\n",
    "    <ul>\n",
    "  <li>La predicción probabilistica no tiene limites entre 0 y 1</li>\n",
    "   <li>Limitación de forma funcional de la recta</li>\n",
    "</ul>\n",
    "</ul>\n"
   ]
  },
  {
   "cell_type": "markdown",
   "metadata": {},
   "source": [
    "<h3> Modelo de regresión logística </h3>"
   ]
  },
  {
   "cell_type": "markdown",
   "metadata": {},
   "source": [
    "<ul>\n",
    "  <li>Mientras la regresión lineal se optimiza mediante la reducción de los errores cuadráticos, la regresión logística se optimiza mediante el método de Máxima Verosimilitud.</li>\n",
    "  <li>Para el caso de la regresión Logística modelamos los parámetros como lineales en los log-odds.</li>\n",
    "\n",
    "</ul>\n",
    "<img src=\"images/3.png\" alt=\"\">"
   ]
  },
  {
   "cell_type": "code",
   "execution_count": 8,
   "metadata": {},
   "outputs": [],
   "source": [
    "df = pd.read_csv(\"data/southafricanheart.csv\").drop(columns=\"Unnamed: 0\")\n",
    "df[\"famhist\"] = np.where(df[\"famhist\"] == \"Present\",1 , 0)"
   ]
  },
  {
   "cell_type": "code",
   "execution_count": 9,
   "metadata": {},
   "outputs": [
    {
     "data": {
      "text/html": [
       "<div>\n",
       "<style scoped>\n",
       "    .dataframe tbody tr th:only-of-type {\n",
       "        vertical-align: middle;\n",
       "    }\n",
       "\n",
       "    .dataframe tbody tr th {\n",
       "        vertical-align: top;\n",
       "    }\n",
       "\n",
       "    .dataframe thead th {\n",
       "        text-align: right;\n",
       "    }\n",
       "</style>\n",
       "<table border=\"1\" class=\"dataframe\">\n",
       "  <thead>\n",
       "    <tr style=\"text-align: right;\">\n",
       "      <th></th>\n",
       "      <th>sbp</th>\n",
       "      <th>tobacco</th>\n",
       "      <th>ldl</th>\n",
       "      <th>adiposity</th>\n",
       "      <th>famhist</th>\n",
       "      <th>typea</th>\n",
       "      <th>obesity</th>\n",
       "      <th>alcohol</th>\n",
       "      <th>age</th>\n",
       "      <th>chd</th>\n",
       "    </tr>\n",
       "  </thead>\n",
       "  <tbody>\n",
       "    <tr>\n",
       "      <th>314</th>\n",
       "      <td>190</td>\n",
       "      <td>5.15</td>\n",
       "      <td>6.03</td>\n",
       "      <td>36.59</td>\n",
       "      <td>0</td>\n",
       "      <td>42</td>\n",
       "      <td>30.31</td>\n",
       "      <td>72.00</td>\n",
       "      <td>50</td>\n",
       "      <td>0</td>\n",
       "    </tr>\n",
       "    <tr>\n",
       "      <th>55</th>\n",
       "      <td>152</td>\n",
       "      <td>5.99</td>\n",
       "      <td>7.99</td>\n",
       "      <td>32.48</td>\n",
       "      <td>0</td>\n",
       "      <td>45</td>\n",
       "      <td>26.57</td>\n",
       "      <td>100.32</td>\n",
       "      <td>48</td>\n",
       "      <td>0</td>\n",
       "    </tr>\n",
       "    <tr>\n",
       "      <th>28</th>\n",
       "      <td>144</td>\n",
       "      <td>4.09</td>\n",
       "      <td>5.55</td>\n",
       "      <td>31.40</td>\n",
       "      <td>1</td>\n",
       "      <td>60</td>\n",
       "      <td>29.43</td>\n",
       "      <td>5.55</td>\n",
       "      <td>56</td>\n",
       "      <td>0</td>\n",
       "    </tr>\n",
       "    <tr>\n",
       "      <th>161</th>\n",
       "      <td>208</td>\n",
       "      <td>27.40</td>\n",
       "      <td>3.12</td>\n",
       "      <td>26.63</td>\n",
       "      <td>0</td>\n",
       "      <td>66</td>\n",
       "      <td>27.45</td>\n",
       "      <td>33.07</td>\n",
       "      <td>62</td>\n",
       "      <td>1</td>\n",
       "    </tr>\n",
       "    <tr>\n",
       "      <th>14</th>\n",
       "      <td>112</td>\n",
       "      <td>9.65</td>\n",
       "      <td>2.29</td>\n",
       "      <td>17.20</td>\n",
       "      <td>1</td>\n",
       "      <td>54</td>\n",
       "      <td>23.53</td>\n",
       "      <td>0.68</td>\n",
       "      <td>53</td>\n",
       "      <td>0</td>\n",
       "    </tr>\n",
       "  </tbody>\n",
       "</table>\n",
       "</div>"
      ],
      "text/plain": [
       "     sbp  tobacco   ldl  adiposity  famhist  typea  obesity  alcohol  age  chd\n",
       "314  190     5.15  6.03      36.59        0     42    30.31    72.00   50    0\n",
       "55   152     5.99  7.99      32.48        0     45    26.57   100.32   48    0\n",
       "28   144     4.09  5.55      31.40        1     60    29.43     5.55   56    0\n",
       "161  208    27.40  3.12      26.63        0     66    27.45    33.07   62    1\n",
       "14   112     9.65  2.29      17.20        1     54    23.53     0.68   53    0"
      ]
     },
     "execution_count": 9,
     "metadata": {},
     "output_type": "execute_result"
    }
   ],
   "source": [
    "df.sample(5)"
   ]
  },
  {
   "cell_type": "code",
   "execution_count": 10,
   "metadata": {},
   "outputs": [
    {
     "name": "stdout",
     "output_type": "stream",
     "text": [
      "Optimization terminated successfully.\n",
      "         Current function value: 0.608111\n",
      "         Iterations 5\n"
     ]
    },
    {
     "data": {
      "text/html": [
       "<table class=\"simpletable\">\n",
       "<caption>Logit Regression Results</caption>\n",
       "<tr>\n",
       "  <th>Dep. Variable:</th>          <td>chd</td>       <th>  No. Observations:  </th>  <td>   462</td>  \n",
       "</tr>\n",
       "<tr>\n",
       "  <th>Model:</th>                 <td>Logit</td>      <th>  Df Residuals:      </th>  <td>   460</td>  \n",
       "</tr>\n",
       "<tr>\n",
       "  <th>Method:</th>                 <td>MLE</td>       <th>  Df Model:          </th>  <td>     1</td>  \n",
       "</tr>\n",
       "<tr>\n",
       "  <th>Date:</th>            <td>Wed, 18 Mar 2020</td> <th>  Pseudo R-squ.:     </th>  <td>0.05740</td> \n",
       "</tr>\n",
       "<tr>\n",
       "  <th>Time:</th>                <td>21:12:28</td>     <th>  Log-Likelihood:    </th> <td> -280.95</td> \n",
       "</tr>\n",
       "<tr>\n",
       "  <th>converged:</th>             <td>True</td>       <th>  LL-Null:           </th> <td> -298.05</td> \n",
       "</tr>\n",
       "<tr>\n",
       "  <th>Covariance Type:</th>     <td>nonrobust</td>    <th>  LLR p-value:       </th> <td>4.937e-09</td>\n",
       "</tr>\n",
       "</table>\n",
       "<table class=\"simpletable\">\n",
       "<tr>\n",
       "      <td></td>         <th>coef</th>     <th>std err</th>      <th>z</th>      <th>P>|z|</th>  <th>[0.025</th>    <th>0.975]</th>  \n",
       "</tr>\n",
       "<tr>\n",
       "  <th>Intercept</th> <td>   -1.1690</td> <td>    0.143</td> <td>   -8.169</td> <td> 0.000</td> <td>   -1.449</td> <td>   -0.889</td>\n",
       "</tr>\n",
       "<tr>\n",
       "  <th>famhist</th>   <td>    1.1690</td> <td>    0.203</td> <td>    5.751</td> <td> 0.000</td> <td>    0.771</td> <td>    1.567</td>\n",
       "</tr>\n",
       "</table>"
      ],
      "text/plain": [
       "<class 'statsmodels.iolib.summary.Summary'>\n",
       "\"\"\"\n",
       "                           Logit Regression Results                           \n",
       "==============================================================================\n",
       "Dep. Variable:                    chd   No. Observations:                  462\n",
       "Model:                          Logit   Df Residuals:                      460\n",
       "Method:                           MLE   Df Model:                            1\n",
       "Date:                Wed, 18 Mar 2020   Pseudo R-squ.:                 0.05740\n",
       "Time:                        21:12:28   Log-Likelihood:                -280.95\n",
       "converged:                       True   LL-Null:                       -298.05\n",
       "Covariance Type:            nonrobust   LLR p-value:                 4.937e-09\n",
       "==============================================================================\n",
       "                 coef    std err          z      P>|z|      [0.025      0.975]\n",
       "------------------------------------------------------------------------------\n",
       "Intercept     -1.1690      0.143     -8.169      0.000      -1.449      -0.889\n",
       "famhist        1.1690      0.203      5.751      0.000       0.771       1.567\n",
       "==============================================================================\n",
       "\"\"\""
      ]
     },
     "execution_count": 10,
     "metadata": {},
     "output_type": "execute_result"
    }
   ],
   "source": [
    "# instancia del modelo logistico\n",
    "modelo = smf.logit(\"chd ~ famhist\", data=df)\n",
    "\n",
    "# fit del modelo\n",
    "modelo_fited = modelo.fit()\n",
    "\n",
    "modelo_fited.summary()"
   ]
  },
  {
   "cell_type": "code",
   "execution_count": 11,
   "metadata": {},
   "outputs": [],
   "source": [
    "# funcion logistica inversa para obtener la probabilidad\n",
    "def inverse_logit(x):\n",
    "    return 1 / (1 + np.exp(-x))\n",
    "\n"
   ]
  },
  {
   "cell_type": "code",
   "execution_count": 12,
   "metadata": {},
   "outputs": [
    {
     "name": "stdout",
     "output_type": "stream",
     "text": [
      "Una persona CON antecedentes familiares tiene una probabilidad de 0.5 de tener una enfermedad coronaria\n"
     ]
    }
   ],
   "source": [
    "eq = modelo_fited.params[\"Intercept\"] +  modelo_fited.params[\"famhist\"] * 1\n",
    "\n",
    "\n",
    "prob = inverse_logit(eq)\n",
    "print(f\"Una persona CON antecedentes familiares tiene una probabilidad de {prob} de tener una enfermedad coronaria\")"
   ]
  },
  {
   "cell_type": "code",
   "execution_count": 13,
   "metadata": {},
   "outputs": [
    {
     "name": "stdout",
     "output_type": "stream",
     "text": [
      "Una persona SIN antecedentes familiares tiene una probabilidad de 0.23703703703703694 de tener una enfermedad coronaria\n"
     ]
    }
   ],
   "source": [
    "eq = modelo_fited.params[\"Intercept\"] +  modelo_fited.params[\"famhist\"] * 0\n",
    "prob = inverse_logit(eq)\n",
    "print(f\"Una persona SIN antecedentes familiares tiene una probabilidad de {prob} de tener una enfermedad coronaria\")"
   ]
  },
  {
   "cell_type": "markdown",
   "metadata": {},
   "source": [
    "<h2> Análisis Factorial (Econometría|Dimensionalidad)<h2> "
   ]
  },
  {
   "cell_type": "markdown",
   "metadata": {},
   "source": [
    "\n",
    "\n",
    "<ul>\n",
    "<li>Objetivo: Extraer variabilidad conjunta y convertirlas en factores latentes</li>\n",
    "<li>Diferencia con PCA</li>    \n",
    "    <ul>\n",
    "    <li>PCA: Orientado a maximizar la varianza de los eigenvalues</li>\n",
    "    <li>Análisis Factorial: Orientado a generar componentes o factores conceptualmente significativos</li>\n",
    "    </ul>\n",
    "</ul>\n",
    "\n"
   ]
  },
  {
   "cell_type": "code",
   "execution_count": 14,
   "metadata": {},
   "outputs": [
    {
     "data": {
      "text/html": [
       "<div>\n",
       "<style scoped>\n",
       "    .dataframe tbody tr th:only-of-type {\n",
       "        vertical-align: middle;\n",
       "    }\n",
       "\n",
       "    .dataframe tbody tr th {\n",
       "        vertical-align: top;\n",
       "    }\n",
       "\n",
       "    .dataframe thead th {\n",
       "        text-align: right;\n",
       "    }\n",
       "</style>\n",
       "<table border=\"1\" class=\"dataframe\">\n",
       "  <thead>\n",
       "    <tr style=\"text-align: right;\">\n",
       "      <th></th>\n",
       "      <th>I.Catolica</th>\n",
       "      <th>I.Evangelica</th>\n",
       "      <th>FFAA</th>\n",
       "      <th>Justicia</th>\n",
       "      <th>Prensa</th>\n",
       "      <th>Television</th>\n",
       "      <th>Sindicatos</th>\n",
       "      <th>Carabineros</th>\n",
       "      <th>Gobierno</th>\n",
       "      <th>PartidosPol</th>\n",
       "      <th>Congreso</th>\n",
       "      <th>Empresas</th>\n",
       "      <th>Universidades</th>\n",
       "      <th>Radio</th>\n",
       "    </tr>\n",
       "  </thead>\n",
       "  <tbody>\n",
       "    <tr>\n",
       "      <th>917</th>\n",
       "      <td>1</td>\n",
       "      <td>2</td>\n",
       "      <td>1</td>\n",
       "      <td>3</td>\n",
       "      <td>3</td>\n",
       "      <td>3</td>\n",
       "      <td>1</td>\n",
       "      <td>3</td>\n",
       "      <td>3</td>\n",
       "      <td>4</td>\n",
       "      <td>3</td>\n",
       "      <td>3</td>\n",
       "      <td>3</td>\n",
       "      <td>1</td>\n",
       "    </tr>\n",
       "    <tr>\n",
       "      <th>707</th>\n",
       "      <td>3</td>\n",
       "      <td>3</td>\n",
       "      <td>2</td>\n",
       "      <td>2</td>\n",
       "      <td>3</td>\n",
       "      <td>3</td>\n",
       "      <td>3</td>\n",
       "      <td>2</td>\n",
       "      <td>3</td>\n",
       "      <td>3</td>\n",
       "      <td>3</td>\n",
       "      <td>3</td>\n",
       "      <td>2</td>\n",
       "      <td>3</td>\n",
       "    </tr>\n",
       "    <tr>\n",
       "      <th>1036</th>\n",
       "      <td>2</td>\n",
       "      <td>3</td>\n",
       "      <td>2</td>\n",
       "      <td>2</td>\n",
       "      <td>3</td>\n",
       "      <td>4</td>\n",
       "      <td>4</td>\n",
       "      <td>2</td>\n",
       "      <td>2</td>\n",
       "      <td>4</td>\n",
       "      <td>3</td>\n",
       "      <td>2</td>\n",
       "      <td>2</td>\n",
       "      <td>4</td>\n",
       "    </tr>\n",
       "    <tr>\n",
       "      <th>987</th>\n",
       "      <td>1</td>\n",
       "      <td>3</td>\n",
       "      <td>1</td>\n",
       "      <td>1</td>\n",
       "      <td>2</td>\n",
       "      <td>2</td>\n",
       "      <td>2</td>\n",
       "      <td>1</td>\n",
       "      <td>2</td>\n",
       "      <td>4</td>\n",
       "      <td>2</td>\n",
       "      <td>2</td>\n",
       "      <td>1</td>\n",
       "      <td>2</td>\n",
       "    </tr>\n",
       "    <tr>\n",
       "      <th>214</th>\n",
       "      <td>4</td>\n",
       "      <td>1</td>\n",
       "      <td>2</td>\n",
       "      <td>3</td>\n",
       "      <td>3</td>\n",
       "      <td>3</td>\n",
       "      <td>8</td>\n",
       "      <td>3</td>\n",
       "      <td>2</td>\n",
       "      <td>3</td>\n",
       "      <td>3</td>\n",
       "      <td>3</td>\n",
       "      <td>2</td>\n",
       "      <td>2</td>\n",
       "    </tr>\n",
       "  </tbody>\n",
       "</table>\n",
       "</div>"
      ],
      "text/plain": [
       "      I.Catolica  I.Evangelica  FFAA  Justicia  Prensa  Television  \\\n",
       "917            1             2     1         3       3           3   \n",
       "707            3             3     2         2       3           3   \n",
       "1036           2             3     2         2       3           4   \n",
       "987            1             3     1         1       2           2   \n",
       "214            4             1     2         3       3           3   \n",
       "\n",
       "      Sindicatos  Carabineros  Gobierno  PartidosPol  Congreso  Empresas  \\\n",
       "917            1            3         3            4         3         3   \n",
       "707            3            2         3            3         3         3   \n",
       "1036           4            2         2            4         3         2   \n",
       "987            2            1         2            4         2         2   \n",
       "214            8            3         2            3         3         3   \n",
       "\n",
       "      Universidades  Radio  \n",
       "917               3      1  \n",
       "707               2      3  \n",
       "1036              2      4  \n",
       "987               1      2  \n",
       "214               2      2  "
      ]
     },
     "execution_count": 14,
     "metadata": {},
     "output_type": "execute_result"
    }
   ],
   "source": [
    "import factor_analyzer as factor\n",
    "import matplotlib.pyplot as plt\n",
    "\n",
    "df = pd.read_csv(\"data/cep45.csv\")\n",
    "trust_df = df.filter(regex=\"p17_*\")\n",
    "\n",
    "trust_df = trust_df.rename(columns={'p17_a': 'I.Catolica', 'p17_b': 'I.Evangelica', 'p17_c': 'FFAA', 'p17_d':\n",
    "'Justicia','p17_e': 'Prensa', 'p17_f': 'Television', 'p17_g':'Sindicatos', 'p17_h':'Carabineros',\n",
    "'p17_i': 'Gobierno', 'p17_j': 'PartidosPol', 'p17_k': 'Congreso', 'p17_l':'Empresas','p17_m':'Universidades', 'p17_n':'Radio'})\n",
    "\n",
    "trust_df.sample(5)"
   ]
  },
  {
   "cell_type": "code",
   "execution_count": 33,
   "metadata": {},
   "outputs": [
    {
     "data": {
      "text/plain": [
       "(1503, 14)"
      ]
     },
     "execution_count": 33,
     "metadata": {},
     "output_type": "execute_result"
    }
   ],
   "source": [
    "trust_df.shape"
   ]
  },
  {
   "cell_type": "code",
   "execution_count": 15,
   "metadata": {},
   "outputs": [
    {
     "data": {
      "text/html": [
       "<div>\n",
       "<style scoped>\n",
       "    .dataframe tbody tr th:only-of-type {\n",
       "        vertical-align: middle;\n",
       "    }\n",
       "\n",
       "    .dataframe tbody tr th {\n",
       "        vertical-align: top;\n",
       "    }\n",
       "\n",
       "    .dataframe thead th {\n",
       "        text-align: right;\n",
       "    }\n",
       "</style>\n",
       "<table border=\"1\" class=\"dataframe\">\n",
       "  <thead>\n",
       "    <tr style=\"text-align: right;\">\n",
       "      <th></th>\n",
       "      <th>I.Catolica</th>\n",
       "      <th>I.Evangelica</th>\n",
       "      <th>FFAA</th>\n",
       "      <th>Justicia</th>\n",
       "      <th>Prensa</th>\n",
       "      <th>Television</th>\n",
       "      <th>Sindicatos</th>\n",
       "      <th>Carabineros</th>\n",
       "      <th>Gobierno</th>\n",
       "      <th>PartidosPol</th>\n",
       "      <th>Congreso</th>\n",
       "      <th>Empresas</th>\n",
       "      <th>Universidades</th>\n",
       "      <th>Radio</th>\n",
       "    </tr>\n",
       "  </thead>\n",
       "  <tbody>\n",
       "    <tr>\n",
       "      <th>count</th>\n",
       "      <td>1503.000000</td>\n",
       "      <td>1503.000000</td>\n",
       "      <td>1503.000000</td>\n",
       "      <td>1503.000000</td>\n",
       "      <td>1503.000000</td>\n",
       "      <td>1503.000000</td>\n",
       "      <td>1503.000000</td>\n",
       "      <td>1503.000000</td>\n",
       "      <td>1503.000000</td>\n",
       "      <td>1503.000000</td>\n",
       "      <td>1503.000000</td>\n",
       "      <td>1503.000000</td>\n",
       "      <td>1503.000000</td>\n",
       "      <td>1503.000000</td>\n",
       "    </tr>\n",
       "    <tr>\n",
       "      <th>mean</th>\n",
       "      <td>2.662675</td>\n",
       "      <td>3.092482</td>\n",
       "      <td>2.846973</td>\n",
       "      <td>3.250832</td>\n",
       "      <td>3.074518</td>\n",
       "      <td>2.858949</td>\n",
       "      <td>3.387891</td>\n",
       "      <td>2.590818</td>\n",
       "      <td>2.869594</td>\n",
       "      <td>3.482369</td>\n",
       "      <td>3.236194</td>\n",
       "      <td>3.027279</td>\n",
       "      <td>2.730539</td>\n",
       "      <td>2.553560</td>\n",
       "    </tr>\n",
       "    <tr>\n",
       "      <th>std</th>\n",
       "      <td>1.376030</td>\n",
       "      <td>1.704179</td>\n",
       "      <td>1.469350</td>\n",
       "      <td>1.292310</td>\n",
       "      <td>1.209608</td>\n",
       "      <td>1.067651</td>\n",
       "      <td>1.707440</td>\n",
       "      <td>1.198466</td>\n",
       "      <td>1.280926</td>\n",
       "      <td>1.101773</td>\n",
       "      <td>1.326557</td>\n",
       "      <td>1.330749</td>\n",
       "      <td>1.720455</td>\n",
       "      <td>1.226494</td>\n",
       "    </tr>\n",
       "    <tr>\n",
       "      <th>min</th>\n",
       "      <td>1.000000</td>\n",
       "      <td>1.000000</td>\n",
       "      <td>1.000000</td>\n",
       "      <td>1.000000</td>\n",
       "      <td>1.000000</td>\n",
       "      <td>1.000000</td>\n",
       "      <td>1.000000</td>\n",
       "      <td>1.000000</td>\n",
       "      <td>1.000000</td>\n",
       "      <td>1.000000</td>\n",
       "      <td>1.000000</td>\n",
       "      <td>1.000000</td>\n",
       "      <td>1.000000</td>\n",
       "      <td>1.000000</td>\n",
       "    </tr>\n",
       "    <tr>\n",
       "      <th>25%</th>\n",
       "      <td>2.000000</td>\n",
       "      <td>2.000000</td>\n",
       "      <td>2.000000</td>\n",
       "      <td>3.000000</td>\n",
       "      <td>2.000000</td>\n",
       "      <td>2.000000</td>\n",
       "      <td>3.000000</td>\n",
       "      <td>2.000000</td>\n",
       "      <td>2.000000</td>\n",
       "      <td>3.000000</td>\n",
       "      <td>3.000000</td>\n",
       "      <td>2.000000</td>\n",
       "      <td>2.000000</td>\n",
       "      <td>2.000000</td>\n",
       "    </tr>\n",
       "    <tr>\n",
       "      <th>50%</th>\n",
       "      <td>3.000000</td>\n",
       "      <td>3.000000</td>\n",
       "      <td>3.000000</td>\n",
       "      <td>3.000000</td>\n",
       "      <td>3.000000</td>\n",
       "      <td>3.000000</td>\n",
       "      <td>3.000000</td>\n",
       "      <td>3.000000</td>\n",
       "      <td>3.000000</td>\n",
       "      <td>3.000000</td>\n",
       "      <td>3.000000</td>\n",
       "      <td>3.000000</td>\n",
       "      <td>2.000000</td>\n",
       "      <td>2.000000</td>\n",
       "    </tr>\n",
       "    <tr>\n",
       "      <th>75%</th>\n",
       "      <td>3.000000</td>\n",
       "      <td>4.000000</td>\n",
       "      <td>3.000000</td>\n",
       "      <td>4.000000</td>\n",
       "      <td>3.000000</td>\n",
       "      <td>3.000000</td>\n",
       "      <td>4.000000</td>\n",
       "      <td>3.000000</td>\n",
       "      <td>3.000000</td>\n",
       "      <td>4.000000</td>\n",
       "      <td>4.000000</td>\n",
       "      <td>3.000000</td>\n",
       "      <td>3.000000</td>\n",
       "      <td>3.000000</td>\n",
       "    </tr>\n",
       "    <tr>\n",
       "      <th>max</th>\n",
       "      <td>9.000000</td>\n",
       "      <td>9.000000</td>\n",
       "      <td>9.000000</td>\n",
       "      <td>9.000000</td>\n",
       "      <td>9.000000</td>\n",
       "      <td>9.000000</td>\n",
       "      <td>9.000000</td>\n",
       "      <td>9.000000</td>\n",
       "      <td>9.000000</td>\n",
       "      <td>9.000000</td>\n",
       "      <td>9.000000</td>\n",
       "      <td>9.000000</td>\n",
       "      <td>9.000000</td>\n",
       "      <td>9.000000</td>\n",
       "    </tr>\n",
       "  </tbody>\n",
       "</table>\n",
       "</div>"
      ],
      "text/plain": [
       "        I.Catolica  I.Evangelica         FFAA     Justicia       Prensa  \\\n",
       "count  1503.000000   1503.000000  1503.000000  1503.000000  1503.000000   \n",
       "mean      2.662675      3.092482     2.846973     3.250832     3.074518   \n",
       "std       1.376030      1.704179     1.469350     1.292310     1.209608   \n",
       "min       1.000000      1.000000     1.000000     1.000000     1.000000   \n",
       "25%       2.000000      2.000000     2.000000     3.000000     2.000000   \n",
       "50%       3.000000      3.000000     3.000000     3.000000     3.000000   \n",
       "75%       3.000000      4.000000     3.000000     4.000000     3.000000   \n",
       "max       9.000000      9.000000     9.000000     9.000000     9.000000   \n",
       "\n",
       "        Television   Sindicatos  Carabineros     Gobierno  PartidosPol  \\\n",
       "count  1503.000000  1503.000000  1503.000000  1503.000000  1503.000000   \n",
       "mean      2.858949     3.387891     2.590818     2.869594     3.482369   \n",
       "std       1.067651     1.707440     1.198466     1.280926     1.101773   \n",
       "min       1.000000     1.000000     1.000000     1.000000     1.000000   \n",
       "25%       2.000000     3.000000     2.000000     2.000000     3.000000   \n",
       "50%       3.000000     3.000000     3.000000     3.000000     3.000000   \n",
       "75%       3.000000     4.000000     3.000000     3.000000     4.000000   \n",
       "max       9.000000     9.000000     9.000000     9.000000     9.000000   \n",
       "\n",
       "          Congreso     Empresas  Universidades        Radio  \n",
       "count  1503.000000  1503.000000    1503.000000  1503.000000  \n",
       "mean      3.236194     3.027279       2.730539     2.553560  \n",
       "std       1.326557     1.330749       1.720455     1.226494  \n",
       "min       1.000000     1.000000       1.000000     1.000000  \n",
       "25%       3.000000     2.000000       2.000000     2.000000  \n",
       "50%       3.000000     3.000000       2.000000     2.000000  \n",
       "75%       4.000000     3.000000       3.000000     3.000000  \n",
       "max       9.000000     9.000000       9.000000     9.000000  "
      ]
     },
     "execution_count": 15,
     "metadata": {},
     "output_type": "execute_result"
    }
   ],
   "source": [
    "trust_df.describe()"
   ]
  },
  {
   "cell_type": "code",
   "execution_count": null,
   "metadata": {},
   "outputs": [],
   "source": []
  },
  {
   "cell_type": "code",
   "execution_count": 16,
   "metadata": {},
   "outputs": [
    {
     "data": {
      "text/plain": [
       "(6644.835705911846, 0.0)"
      ]
     },
     "execution_count": 16,
     "metadata": {},
     "output_type": "execute_result"
    }
   ],
   "source": [
    "factor.calculate_bartlett_sphericity(trust_df)"
   ]
  },
  {
   "cell_type": "code",
   "execution_count": 17,
   "metadata": {},
   "outputs": [
    {
     "data": {
      "text/plain": [
       "(array([0.93853431, 0.92717654, 0.93176781, 0.95285454, 0.91971575,\n",
       "        0.88552639, 0.93671982, 0.91120486, 0.93981619, 0.91291311,\n",
       "        0.91928052, 0.94234885, 0.95178434, 0.93221226]),\n",
       " 0.9274657194111274)"
      ]
     },
     "execution_count": 17,
     "metadata": {},
     "output_type": "execute_result"
    }
   ],
   "source": [
    "factor.calculate_kmo(trust_df)"
   ]
  },
  {
   "cell_type": "code",
   "execution_count": null,
   "metadata": {},
   "outputs": [],
   "source": []
  },
  {
   "cell_type": "code",
   "execution_count": 25,
   "metadata": {},
   "outputs": [
    {
     "data": {
      "image/png": "[encoded data removed]",
      "text/plain": [
       "<Figure size 432x288 with 1 Axes>"
      ]
     },
     "metadata": {
      "needs_background": "light"
     },
     "output_type": "display_data"
    }
   ],
   "source": [
    "#Generamos una nueva instancia en el objeto factorize\n",
    "factorize = factor.FactorAnalyzer(n_factors=2, rotation='varimax')\n",
    "\n",
    "# Implementamos el análisis\n",
    "factorize.fit(trust_df)\n",
    "\n",
    "# extraemos los eigenvalues\n",
    "factor_screeplot = factorize.get_eigenvalues()[0]\n",
    "\n",
    "# graficamos los eigenvalues contra la cantidad de dimensiones estimables\n",
    "plt.plot(range(1,len(factor_screeplot)+1), factor_screeplot, 'o-', color='tomato')\n",
    "plt.xlabel('Número de Factor')\n",
    "plt.ylabel('Valores Propios')\n",
    "\n",
    "# visualizamos el criterio de corte\n",
    "plt.axhline(1)\n",
    "plt.title(\"Scree plot\");"
   ]
  },
  {
   "cell_type": "code",
   "execution_count": 26,
   "metadata": {},
   "outputs": [],
   "source": [
    "factor_loadings = factorize.loadings_\n",
    "factor_loadings = pd.DataFrame(factor_loadings,columns=[\"Factor1\",\"Factor2\"], index=trust_df.columns)"
   ]
  },
  {
   "cell_type": "code",
   "execution_count": 28,
   "metadata": {},
   "outputs": [
    {
     "data": {
      "text/html": [
       "<div>\n",
       "<style scoped>\n",
       "    .dataframe tbody tr th:only-of-type {\n",
       "        vertical-align: middle;\n",
       "    }\n",
       "\n",
       "    .dataframe tbody tr th {\n",
       "        vertical-align: top;\n",
       "    }\n",
       "\n",
       "    .dataframe thead th {\n",
       "        text-align: right;\n",
       "    }\n",
       "</style>\n",
       "<table border=\"1\" class=\"dataframe\">\n",
       "  <thead>\n",
       "    <tr style=\"text-align: right;\">\n",
       "      <th></th>\n",
       "      <th>Factor1</th>\n",
       "      <th>Factor2</th>\n",
       "    </tr>\n",
       "  </thead>\n",
       "  <tbody>\n",
       "    <tr>\n",
       "      <th>I.Catolica</th>\n",
       "      <td></td>\n",
       "      <td></td>\n",
       "    </tr>\n",
       "    <tr>\n",
       "      <th>I.Evangelica</th>\n",
       "      <td></td>\n",
       "      <td></td>\n",
       "    </tr>\n",
       "    <tr>\n",
       "      <th>FFAA</th>\n",
       "      <td></td>\n",
       "      <td></td>\n",
       "    </tr>\n",
       "    <tr>\n",
       "      <th>Justicia</th>\n",
       "      <td></td>\n",
       "      <td></td>\n",
       "    </tr>\n",
       "    <tr>\n",
       "      <th>Prensa</th>\n",
       "      <td></td>\n",
       "      <td>0.51</td>\n",
       "    </tr>\n",
       "    <tr>\n",
       "      <th>Television</th>\n",
       "      <td></td>\n",
       "      <td>0.7</td>\n",
       "    </tr>\n",
       "    <tr>\n",
       "      <th>Sindicatos</th>\n",
       "      <td>0.51</td>\n",
       "      <td></td>\n",
       "    </tr>\n",
       "    <tr>\n",
       "      <th>Carabineros</th>\n",
       "      <td></td>\n",
       "      <td>0.57</td>\n",
       "    </tr>\n",
       "    <tr>\n",
       "      <th>Gobierno</th>\n",
       "      <td>0.51</td>\n",
       "      <td></td>\n",
       "    </tr>\n",
       "    <tr>\n",
       "      <th>PartidosPol</th>\n",
       "      <td>0.67</td>\n",
       "      <td></td>\n",
       "    </tr>\n",
       "    <tr>\n",
       "      <th>Congreso</th>\n",
       "      <td>0.73</td>\n",
       "      <td></td>\n",
       "    </tr>\n",
       "    <tr>\n",
       "      <th>Empresas</th>\n",
       "      <td>0.57</td>\n",
       "      <td></td>\n",
       "    </tr>\n",
       "    <tr>\n",
       "      <th>Universidades</th>\n",
       "      <td></td>\n",
       "      <td></td>\n",
       "    </tr>\n",
       "    <tr>\n",
       "      <th>Radio</th>\n",
       "      <td></td>\n",
       "      <td>0.57</td>\n",
       "    </tr>\n",
       "  </tbody>\n",
       "</table>\n",
       "</div>"
      ],
      "text/plain": [
       "              Factor1 Factor2\n",
       "I.Catolica                   \n",
       "I.Evangelica                 \n",
       "FFAA                         \n",
       "Justicia                     \n",
       "Prensa                   0.51\n",
       "Television                0.7\n",
       "Sindicatos       0.51        \n",
       "Carabineros              0.57\n",
       "Gobierno         0.51        \n",
       "PartidosPol      0.67        \n",
       "Congreso         0.73        \n",
       "Empresas         0.57        \n",
       "Universidades                \n",
       "Radio                    0.57"
      ]
     },
     "execution_count": 28,
     "metadata": {},
     "output_type": "execute_result"
    }
   ],
   "source": [
    "factor_loadings.applymap(lambda x: np.where(x < .5, ' ', round(x, 2)))"
   ]
  },
  {
   "cell_type": "code",
   "execution_count": 29,
   "metadata": {},
   "outputs": [
    {
     "data": {
      "text/plain": [
       "(array([2.8546665 , 2.64039588]),\n",
       " array([0.20390475, 0.18859971]),\n",
       " array([0.20390475, 0.39250446]))"
      ]
     },
     "execution_count": 29,
     "metadata": {},
     "output_type": "execute_result"
    }
   ],
   "source": [
    "factorize.get_factor_variance()"
   ]
  },
  {
   "cell_type": "code",
   "execution_count": 30,
   "metadata": {},
   "outputs": [],
   "source": [
    "factors_predicted = factorize.transform(trust_df)"
   ]
  },
  {
   "cell_type": "code",
   "execution_count": 31,
   "metadata": {},
   "outputs": [
    {
     "data": {
      "text/plain": [
       "array([[-0.67809168,  0.33784116],\n",
       "       [-0.0480973 , -0.00985878],\n",
       "       [ 0.54219961,  0.42465027],\n",
       "       ...,\n",
       "       [-0.22806842,  0.13539122],\n",
       "       [-0.03749915, -0.04883834],\n",
       "       [ 4.13069653, -0.00732222]])"
      ]
     },
     "execution_count": 31,
     "metadata": {},
     "output_type": "execute_result"
    }
   ],
   "source": [
    "factors_predicted"
   ]
  },
  {
   "cell_type": "code",
   "execution_count": 32,
   "metadata": {},
   "outputs": [
    {
     "data": {
      "text/plain": [
       "(1503, 2)"
      ]
     },
     "execution_count": 32,
     "metadata": {},
     "output_type": "execute_result"
    }
   ],
   "source": [
    "factors_predicted.shape"
   ]
  },
  {
   "cell_type": "markdown",
   "metadata": {},
   "source": [
    "<h1> Machine Learning </h1>"
   ]
  },
  {
   "cell_type": "markdown",
   "metadata": {},
   "source": [
    "<h2> PCA (Machine Learning|Dimensionalidad)<h2> "
   ]
  },
  {
   "cell_type": "code",
   "execution_count": null,
   "metadata": {},
   "outputs": [],
   "source": []
  },
  {
   "cell_type": "code",
   "execution_count": 34,
   "metadata": {},
   "outputs": [],
   "source": [
    "from sklearn.datasets import load_digits\n",
    "df = load_digits()"
   ]
  },
  {
   "cell_type": "code",
   "execution_count": 41,
   "metadata": {},
   "outputs": [
    {
     "data": {
      "text/plain": [
       "array([[ 0.,  0.,  9., 14.,  8.,  1.,  0.,  0.],\n",
       "       [ 0.,  0., 12., 14., 14., 12.,  0.,  0.],\n",
       "       [ 0.,  0.,  9., 10.,  0., 15.,  4.,  0.],\n",
       "       [ 0.,  0.,  3., 16., 12., 14.,  2.,  0.],\n",
       "       [ 0.,  0.,  4., 16., 16.,  2.,  0.,  0.],\n",
       "       [ 0.,  3., 16.,  8., 10., 13.,  2.,  0.],\n",
       "       [ 0.,  1., 15.,  1.,  3., 16.,  8.,  0.],\n",
       "       [ 0.,  0., 11., 16., 15., 11.,  1.,  0.]])"
      ]
     },
     "execution_count": 41,
     "metadata": {},
     "output_type": "execute_result"
    }
   ],
   "source": [
    "df.data[8].reshape([8, 8])"
   ]
  },
  {
   "cell_type": "code",
   "execution_count": null,
   "metadata": {},
   "outputs": [],
   "source": []
  },
  {
   "cell_type": "code",
   "execution_count": 38,
   "metadata": {},
   "outputs": [
    {
     "data": {
      "image/png": "[encoded data removed]",
      "text/plain": [
       "<Figure size 432x288 with 1 Axes>"
      ]
     },
     "metadata": {
      "needs_background": "light"
     },
     "output_type": "display_data"
    }
   ],
   "source": [
    "plt.imshow(df.data[8].reshape([8, 8]));"
   ]
  },
  {
   "cell_type": "code",
   "execution_count": 39,
   "metadata": {},
   "outputs": [
    {
     "name": "stdout",
     "output_type": "stream",
     "text": [
      "Dimensión original de la base: (1797, 64)\n"
     ]
    }
   ],
   "source": [
    "print(\"Dimensión original de la base:\",df.data.shape)"
   ]
  },
  {
   "cell_type": "code",
   "execution_count": 43,
   "metadata": {},
   "outputs": [],
   "source": [
    "from sklearn.decomposition import PCA\n",
    "\n",
    "# Instancia del modelo\n",
    "dimred = PCA(n_components = 2)\n",
    "\n",
    "# Entrenamiento y transformación\n",
    "project_x = dimred.fit_transform(df.data)"
   ]
  },
  {
   "cell_type": "code",
   "execution_count": 44,
   "metadata": {},
   "outputs": [
    {
     "name": "stdout",
     "output_type": "stream",
     "text": [
      "La nueva dimensión de la base es de: (1797, 2)\n"
     ]
    }
   ],
   "source": [
    "print(\"La nueva dimensión de la base es de:\",project_x.shape)"
   ]
  },
  {
   "cell_type": "markdown",
   "metadata": {},
   "source": [
    "#### Visualización de las componentes"
   ]
  },
  {
   "cell_type": "code",
   "execution_count": 45,
   "metadata": {},
   "outputs": [
    {
     "data": {
      "image/png": "[encoded data removed]",
      "text/plain": [
       "<Figure size 432x288 with 2 Axes>"
      ]
     },
     "metadata": {
      "needs_background": "light"
     },
     "output_type": "display_data"
    }
   ],
   "source": [
    "plt.scatter(project_x[:, 0], project_x[:, 1],c=df.target, edgecolor='none', alpha=.7, cmap='Set1')\n",
    "plt.colorbar();"
   ]
  },
  {
   "cell_type": "code",
   "execution_count": 46,
   "metadata": {},
   "outputs": [
    {
     "name": "stdout",
     "output_type": "stream",
     "text": [
      "La varianza explicada de cada dimensión es de: [0.14890594 0.13618771]\n",
      "En conjunto, ambas dimensiones explican la varianza en un:  0.2850936482369253\n"
     ]
    }
   ],
   "source": [
    "print(\"La varianza explicada de cada dimensión es de:\",dimred.explained_variance_ratio_)\n",
    "print(\"En conjunto, ambas dimensiones explican la varianza en un: \",\n",
    "sum(dimred.explained_variance_ratio_))"
   ]
  },
  {
   "cell_type": "code",
   "execution_count": null,
   "metadata": {},
   "outputs": [],
   "source": []
  },
  {
   "cell_type": "code",
   "execution_count": null,
   "metadata": {},
   "outputs": [],
   "source": []
  },
  {
   "cell_type": "markdown",
   "metadata": {},
   "source": [
    "#### Definiendo el n° de componentes"
   ]
  },
  {
   "cell_type": "code",
   "execution_count": 47,
   "metadata": {},
   "outputs": [
    {
     "data": {
      "image/png": "[encoded data removed]",
      "text/plain": [
       "<Figure size 432x288 with 1 Axes>"
      ]
     },
     "metadata": {
      "needs_background": "light"
     },
     "output_type": "display_data"
    }
   ],
   "source": [
    "# instancia del modelo sin n_components\n",
    "fetch_dims = PCA().fit(df.data)\n",
    "\n",
    "# dim de componentes\n",
    "dims_quant = len(fetch_dims.components_)\n",
    "\n",
    "plt.bar(range(1, dims_quant + 1),\n",
    "        fetch_dims.explained_variance_ratio_,\n",
    "        label=\"Varianza de cada dimensión\")\n",
    "\n",
    "plt.step(range(1,len(fetch_dims.components_) + 1),\n",
    "         np.cumsum(fetch_dims.explained_variance_ratio_),\n",
    "        color='tomato', label=\"Varianza acumulada\")\n",
    "\n",
    "plt.xlabel('Número de dimensiones')\n",
    "plt.ylabel('Varianza')\n",
    "plt.legend();\n",
    "\n"
   ]
  },
  {
   "cell_type": "code",
   "execution_count": 48,
   "metadata": {},
   "outputs": [
    {
     "name": "stdout",
     "output_type": "stream",
     "text": [
      "Varianza acumulada con 10 dimensiones: 0.7382257081081238\n"
     ]
    }
   ],
   "source": [
    "pca = PCA(n_components=10)\n",
    "\n",
    "project_x = pca.fit_transform(df.data)\n",
    "                              \n",
    "print(\"Varianza acumulada con 10 dimensiones:\", np.cumsum(pca.explained_variance_ratio_)[-1])"
   ]
  },
  {
   "cell_type": "code",
   "execution_count": 49,
   "metadata": {},
   "outputs": [
    {
     "data": {
      "text/plain": [
       "array([[ -1.2594416 ,  21.27489276,  -9.46299989, ...,   2.56111135,\n",
       "         -0.57459575,   3.64661355],\n",
       "       [  7.95768332, -20.76877452,   4.43941463, ...,  -4.60697254,\n",
       "          3.57641708,  -1.05084006],\n",
       "       [  6.99185941,  -9.9559136 ,   2.95869335, ..., -16.41950978,\n",
       "          0.75587013,   4.22364962],\n",
       "       ...,\n",
       "       [ 10.80115315,  -6.96014007,   5.59972653, ...,  -7.41934811,\n",
       "         -3.91741924, -13.09413253],\n",
       "       [ -4.87211866,  12.42396108, -10.17079042, ...,  -4.35112489,\n",
       "          3.96544142, -13.15200741],\n",
       "       [ -0.34451263,   6.36565133,  10.7738653 , ...,   0.66407783,\n",
       "         -4.07585736, -12.59585849]])"
      ]
     },
     "execution_count": 49,
     "metadata": {},
     "output_type": "execute_result"
    }
   ],
   "source": [
    "project_x"
   ]
  },
  {
   "cell_type": "code",
   "execution_count": null,
   "metadata": {},
   "outputs": [],
   "source": []
  },
  {
   "cell_type": "code",
   "execution_count": null,
   "metadata": {},
   "outputs": [],
   "source": []
  },
  {
   "cell_type": "code",
   "execution_count": null,
   "metadata": {},
   "outputs": [],
   "source": []
  },
  {
   "cell_type": "code",
   "execution_count": null,
   "metadata": {},
   "outputs": [],
   "source": []
  }
 ],
 "metadata": {
  "kernelspec": {
   "display_name": "Python 3",
   "language": "python",
   "name": "python3"
  },
  "language_info": {
   "codemirror_mode": {
    "name": "ipython",
    "version": 3
   },
   "file_extension": ".py",
   "mimetype": "text/x-python",
   "name": "python",
   "nbconvert_exporter": "python",
   "pygments_lexer": "ipython3",
   "version": "3.8.2"
  }
 },
 "nbformat": 4,
 "nbformat_minor": 4
}
